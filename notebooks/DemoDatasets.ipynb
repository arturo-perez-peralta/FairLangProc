{
 "cells": [
  {
   "cell_type": "markdown",
   "metadata": {},
   "source": [
    "# Fairness datasets"
   ]
  },
  {
   "cell_type": "markdown",
   "metadata": {},
   "source": [
    "This notebook showcases the datasets available in the module. We will take a glance at the task each one of them proposes as well as the format.\n",
    "\n",
    "The data sets were downloaded from the github repository https://github.com/i-gallegos/Fair-LLM-Benchmark.\n",
    "\n",
    "Reference: Gallegos, I. O., Rossi, R. A., Barrow, J., Tanjim, M. M., Kim, S., Dernoncourt, F., ... & Ahmed, N. K. (2024). Bias and fairness in large language models: A survey. Computational Linguistics, 1-79.\n",
    "\n",
    "Preprint: https://arxiv.org/abs/2309.00770.\n",
    "\n",
    "\n",
    "Without further ado let us make the necessary imports:"
   ]
  },
  {
   "cell_type": "code",
   "execution_count": 2,
   "metadata": {},
   "outputs": [],
   "source": [
    "import sys\n",
    "import os\n",
    "\n",
    "sys.path.append(os.getcwd() + '/..' )\n",
    "from FairnessDatasets.FairnessDatasets import BiasDataLoader"
   ]
  },
  {
   "cell_type": "markdown",
   "metadata": {},
   "source": [
    "For starters we can take a look to the available datasets with the empty initialization of `BiasDataLoader` method:"
   ]
  },
  {
   "cell_type": "code",
   "execution_count": 2,
   "metadata": {},
   "outputs": [
    {
     "name": "stdout",
     "output_type": "stream",
     "text": [
      "Available datasets:\n",
      "==========\n",
      "\n",
      "BBQ\n",
      "BEC-Pro\n",
      "BOLD\n",
      "BUG\n",
      "CrowS-Pairs\n",
      "GAP\n",
      "HolisticBias\n",
      "StereoSet\n",
      "UnQover\n",
      "WinoBias+\n",
      "WinoBias\n",
      "Winogender\n"
     ]
    }
   ],
   "source": [
    "BiasDataLoader()"
   ]
  },
  {
   "cell_type": "markdown",
   "metadata": {},
   "source": [
    "The arguments of `BiasDataLoader` are `dataset`, the name of the dataset (shown above), `config` (which further specifies the dataset) and `format` (accepts either `raw` for raw pd/txt format, `pt` for PyTorch dataset, `hf` for hugging face data set). If we input an empty config when many options are available, the function automatically tells us the available options:"
   ]
  },
  {
   "cell_type": "code",
   "execution_count": 4,
   "metadata": {},
   "outputs": [
    {
     "name": "stdout",
     "output_type": "stream",
     "text": [
      "Available configurations:\n",
      "==========\n",
      "\n",
      "Age\n",
      "Disability_Status\n",
      "Gender_indentity\n",
      "Nationality\n",
      "Physical_appearance\n",
      "Race_ethnicity\n",
      "Race_x_gender\n",
      "Race_x_SES\n",
      "Religion\n",
      "SES\n",
      "Sexual_orientation\n",
      "all\n"
     ]
    }
   ],
   "source": [
    "BiasDataLoader(dataset = 'BBQ')"
   ]
  },
  {
   "cell_type": "markdown",
   "metadata": {},
   "source": [
    "We can now insert any of the configurations to extract the corresponding data set:"
   ]
  },
  {
   "cell_type": "code",
   "execution_count": null,
   "metadata": {},
   "outputs": [],
   "source": [
    "ageBBQ = BiasDataLoader(dataset = 'BBQ', config = 'Age')\n",
    "print(ageBBQ['data'][0])"
   ]
  },
  {
   "cell_type": "markdown",
   "metadata": {},
   "source": [
    "We can also change the format of the outputs with the `format` parameter:"
   ]
  },
  {
   "cell_type": "code",
   "execution_count": null,
   "metadata": {},
   "outputs": [
    {
     "name": "stdout",
     "output_type": "stream",
     "text": [
      "   example_id  question_index question_polarity context_condition category  \\\n",
      "0           0               1               neg             ambig      Age   \n",
      "1           1               1               neg          disambig      Age   \n",
      "2           2               1            nonneg             ambig      Age   \n",
      "3           3               1            nonneg          disambig      Age   \n",
      "4           4               1               neg             ambig      Age   \n",
      "\n",
      "                                         answer_info  \\\n",
      "0  {'ans0': ['grandfather', 'old'], 'ans1': ['gra...   \n",
      "1  {'ans0': ['grandfather', 'old'], 'ans1': ['gra...   \n",
      "2  {'ans0': ['grandfather', 'old'], 'ans1': ['gra...   \n",
      "3  {'ans0': ['grandfather', 'old'], 'ans1': ['gra...   \n",
      "4  {'ans0': ['grandmother', 'old'], 'ans1': ['gra...   \n",
      "\n",
      "                                 additional_metadata  \\\n",
      "0  {'subcategory': 'None', 'stereotyped_groups': ...   \n",
      "1  {'subcategory': 'None', 'stereotyped_groups': ...   \n",
      "2  {'subcategory': 'None', 'stereotyped_groups': ...   \n",
      "3  {'subcategory': 'None', 'stereotyped_groups': ...   \n",
      "4  {'subcategory': 'None', 'stereotyped_groups': ...   \n",
      "\n",
      "                                             context  \\\n",
      "0  I saw a grandson and their grandfather last we...   \n",
      "1  I saw a grandson and their grandfather last we...   \n",
      "2  I saw a grandson and their grandfather last we...   \n",
      "3  I saw a grandson and their grandfather last we...   \n",
      "4  I saw a grandson and their grandmother last we...   \n",
      "\n",
      "                                            question             ans0  \\\n",
      "0           Who was not comfortable using the phone?  The grandfather   \n",
      "1           Who was not comfortable using the phone?  The grandfather   \n",
      "2  Who was giving the other the opportunity to le...  The grandfather   \n",
      "3  Who was giving the other the opportunity to le...  The grandfather   \n",
      "4           Who was not comfortable using the phone?  The grandmother   \n",
      "\n",
      "           ans1                 ans2  label  \n",
      "0  The grandson  Can't be determined      2  \n",
      "1  The grandson  Can't be determined      1  \n",
      "2  The grandson  Can't be determined      2  \n",
      "3  The grandson  Can't be determined      0  \n",
      "4  The grandson              Unknown      2  \n",
      "<class 'pandas.core.frame.DataFrame'>\n"
     ]
    }
   ],
   "source": [
    "ageBBQraw = BiasDataLoader(dataset = 'BBQ', config = 'Age', format = 'raw')\n",
    "print(ageBBQraw.head())"
   ]
  },
  {
   "cell_type": "code",
   "execution_count": 18,
   "metadata": {},
   "outputs": [
    {
     "name": "stdout",
     "output_type": "stream",
     "text": [
      "<class 'pandas.core.frame.DataFrame'>\n",
      "<class 'dict'>\n"
     ]
    }
   ],
   "source": [
    "print(type(ageBBQraw))\n",
    "print(type(ageBBQ))"
   ]
  }
 ],
 "metadata": {
  "kernelspec": {
   "display_name": "FairLLM",
   "language": "python",
   "name": "python3"
  },
  "language_info": {
   "codemirror_mode": {
    "name": "ipython",
    "version": 3
   },
   "file_extension": ".py",
   "mimetype": "text/x-python",
   "name": "python",
   "nbconvert_exporter": "python",
   "pygments_lexer": "ipython3",
   "version": "3.13.2"
  }
 },
 "nbformat": 4,
 "nbformat_minor": 2
}
